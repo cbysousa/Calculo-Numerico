{
 "cells": [
  {
   "cell_type": "markdown",
   "metadata": {
    "id": "vMAbBdWTKVmV"
   },
   "source": [
    "# Método da Eliminação de Gauss com Pivotação Parcial\n",
    "## Objetivo\n",
    "O objetivo desse notebook é implementar o método da eliminação de Gauss com Pivotação Parcial.\n",
    "\n",
    "## Implementação\n",
    "Nós iremos implementar o algoritmo parte por parte, de acordo com a estratégia mostrada em sala. As instruções estão nos comentários nas funções abaixo. Você só precisa editar onde estiver indicado.\n",
    "\n",
    "Iremos utilizar a biblioteca numpy para representar vetores e matrizes.\n",
    "\n",
    "```python\n",
    "import numpy as np\n",
    "\n",
    "```\n",
    "\n",
    "Para executar uma célula, selecione a célula e pressione ```Ctrl + Enter```. Após implementar as funções abaixo, você deve executar cada uma das células, preferencialmente na ordem em que elas aparecem.\n"
   ]
  },
  {
   "cell_type": "code",
   "execution_count": 3,
   "metadata": {
    "id": "ZEwkuK5AKVmZ"
   },
   "outputs": [],
   "source": [
    "import numpy as np"
   ]
  },
  {
   "cell_type": "markdown",
   "metadata": {
    "id": "RDystrR4KVma"
   },
   "source": [
    "### Função para escolher o pivô"
   ]
  },
  {
   "cell_type": "code",
   "execution_count": 4,
   "metadata": {
    "collapsed": true,
    "id": "ZQKdLz6OKVma"
   },
   "outputs": [],
   "source": [
    "def escolhe_pivo(k, A, b):\n",
    "    '''Escolhe o pivô de maior valor absoluto na coluna k a partir da linha k\n",
    "       da matriz A. Se o pivô estiver numa linha diferente de k, as linhas da\n",
    "       matriz A e do vetor b são trocadas (in place).\n",
    "       Saída: booleano (True se houve troca)\n",
    "    '''\n",
    "    ## inicializa flag para controlar se houve troca de linha com false\n",
    "    houve_troca = False\n",
    "    ## encontra o índice da linha com o maior valor absoluto na coluna k,\n",
    "    ## a partir da linha k\n",
    "    ## dica: use np.abs para pegar o valor absoluto e np.argmax para pegar\n",
    "    ## o índice do maior valor\n",
    "    indice_pivo = k + np.argmax(np.abs(A[k:, k]))\n",
    "\n",
    "    ## se k for diferente da linha onde está o pivô, troca a linha k\n",
    "    ## pela linha do pivô em A e b e atribui o valor True à flag\n",
    "    if indice_pivo != k:\n",
    "        A[[k, indice_pivo]] = A[[indice_pivo, k]]\n",
    "        b[[k, indice_pivo]] = b[[indice_pivo, k]]\n",
    "        houve_troca = True\n",
    "    ## retorna a flag\n",
    "    return houve_troca"
   ]
  },
  {
   "cell_type": "markdown",
   "metadata": {
    "id": "wjN5REhRKVmb"
   },
   "source": [
    "Agora precisamos testar se a função está implementada corretamente. Iremos testar com o exemplo mostrado em sala."
   ]
  },
  {
   "cell_type": "code",
   "execution_count": 5,
   "metadata": {
    "collapsed": true,
    "id": "C-gF0zOXKVmc"
   },
   "outputs": [
    {
     "name": "stdout",
     "output_type": "stream",
     "text": [
      "Antes da troca: A = \n",
      " [[1 2 3]\n",
      " [3 1 0]\n",
      " [0 3 4]]\n",
      "Antes da troca: b = \n",
      " [3 4 3]\n",
      "Houve troca?  True\n",
      "Depois da troca A =\n",
      " [[3 1 0]\n",
      " [1 2 3]\n",
      " [0 3 4]]\n",
      "Depois da troca b =\n",
      " [4 3 3]\n"
     ]
    }
   ],
   "source": [
    "A = np.array([[1, 2, 3],\n",
    "        [3, 1, 0],\n",
    "        [0, 3, 4]])\n",
    "b = np.array([3, 4, 3])\n",
    "print(\"Antes da troca: A = \\n\", A)\n",
    "print(\"Antes da troca: b = \\n\", b)\n",
    "\n",
    "## Testaremos com a primeira coluna (k=0)\n",
    "houveTroca = escolhe_pivo(0, A, b)\n",
    "print(\"Houve troca? \", houveTroca)\n",
    "print(\"Depois da troca A =\\n\", A)\n",
    "print(\"Depois da troca b =\\n\", b)"
   ]
  },
  {
   "cell_type": "markdown",
   "metadata": {
    "id": "oN-doadHKVme"
   },
   "source": [
    "Se estiver tudo ok, ao executar a célula acima, você deve ver a resposta:\n",
    "```\n",
    "Antes da troca: A =\n",
    " [[1 2 3]\n",
    " [3 1 0]\n",
    " [0 3 4]]\n",
    "Antes da troca: b =\n",
    " [3 4 3]\n",
    "Houve troca?  True\n",
    "Depois da troca A =\n",
    " [[3 1 0]\n",
    " [1 2 3]\n",
    " [0 3 4]]\n",
    "Depois da troca b =\n",
    " [4 3 3]\n",
    "```"
   ]
  },
  {
   "cell_type": "markdown",
   "metadata": {
    "collapsed": true,
    "id": "8SCJ9bmfKVmg"
   },
   "source": [
    "### Método de Gauss com Pivotação\n",
    "\n",
    "Copie a função ```substituicoes_retroativas``` que você implementou no notebook gauss.ipynb.\n"
   ]
  },
  {
   "cell_type": "code",
   "execution_count": 20,
   "metadata": {
    "collapsed": true,
    "id": "XRDXNLYVKVmh"
   },
   "outputs": [],
   "source": [
    "def substituicoes_retroativas(A, b):\n",
    "    '''Executa o método das substituições retroativas para resolver o sistema\n",
    "       linear triangular superior Ax=b.\n",
    "       Parâmetros de entrada:\n",
    "         - A: matriz triangular superior (numpy array 2D)\n",
    "         - b: vetor constante (numpy array 1D)\n",
    "       Saída: vetor x (numpy array 1D)\n",
    "    '''\n",
    "    n = A.shape[0]  # número de linhas (ou colunas, já que é quadrada)\n",
    "    x = np.zeros(n)  # vetor solução inicializado com zeros\n",
    "\n",
    "    # itera sobre as linhas de baixo para cima\n",
    "    for i in range(n - 1, -1, -1):\n",
    "        # calcula o valor de x[i] usando a equação da linha i\n",
    "        s = np.dot(A[i, i + 1:], x[i + 1:])\n",
    "        # resolve a equação para x[i]\n",
    "        x[i] = (b[i] - s) / A[i, i]\n",
    "    return x"
   ]
  },
  {
   "cell_type": "markdown",
   "metadata": {
    "id": "mUNjhpBwKVmj"
   },
   "source": [
    "Agora copie o conteúdo da função ```gauss``` que você implementou no notebook gauss.ipynb, modificando apenas a parte para escolher o pivô. O resto permanece igual."
   ]
  },
  {
   "cell_type": "code",
   "execution_count": 28,
   "metadata": {
    "collapsed": true,
    "id": "xGRIfjnKKVmj"
   },
   "outputs": [],
   "source": [
    "def gauss_pivot(A, b):\n",
    "    '''Executa o método da eliminação de Gauss com pivotação parcial para resolver\n",
    "       o sistema linear Ax=b, transformando-o em um sistema triangular superior.\n",
    "       Parâmetros de entrada:\n",
    "         - A: matriz quadrada (numpy array 2D)\n",
    "         - b: vetor constante (numpy array 1D)\n",
    "       Saída: vetor x (numpy array 1D)\n",
    "    '''\n",
    "    ## Vamos copiar a matriz A e o vetor b para não alterar os dados originais\n",
    "    A = A.copy().astype(float)  # Evita modificar A original\n",
    "    b = b.copy().astype(float)  # Evita modificar b original\n",
    "\n",
    "    # n é a ordem da matriz A\n",
    "    n = A.shape[0]\n",
    "\n",
    "    # Para cada etapa k\n",
    "    for k in range(0, n-1):\n",
    "        escolhe_pivo(k, A, b)\n",
    "        # Para cada linha i\n",
    "        for i in range(k+1, n):\n",
    "            # Calcula o fator de multiplicação\n",
    "            m = -A[i, k] / A[k, k]\n",
    "            # Atualiza a linha i da matriz A, a partir da linha k+1\n",
    "            A[i, k+1:] = m * A[k, k+1:] + A[i, k+1:]\n",
    "            # Atualiza o vetor b\n",
    "            b[i] = m * b[k] + b[i]\n",
    "            # Zera o elemento A[i, k]\n",
    "            A[i, k] = 0.0\n",
    "    # Agora resolve o sistema triangular superior usando substituições retroativas\n",
    "    x = substituicoes_retroativas(A, b)\n",
    "    return x"
   ]
  },
  {
   "cell_type": "markdown",
   "metadata": {
    "id": "ajpQD9K9KVmk"
   },
   "source": [
    "**Não se esqueça de executar as células de código acima!**"
   ]
  },
  {
   "cell_type": "markdown",
   "metadata": {
    "id": "KsNRMmv1KVmk"
   },
   "source": [
    "Agora precisamos testar se a função está implementada corretamente. Também iremos usar o exemplo mostrado em sala."
   ]
  },
  {
   "cell_type": "code",
   "execution_count": 29,
   "metadata": {
    "id": "M7tNa5vCKVml"
   },
   "outputs": [
    {
     "name": "stdout",
     "output_type": "stream",
     "text": [
      "[1. 1. 0.]\n"
     ]
    }
   ],
   "source": [
    "A = np.array([[1, 2, 3],\n",
    "    [3, 1, 0],\n",
    "    [0, 3, 4]])\n",
    "b = np.array([3, 4, 3])\n",
    "x = gauss_pivot(A, b)\n",
    "print(x)"
   ]
  },
  {
   "cell_type": "markdown",
   "metadata": {
    "id": "frHJTwldKVml"
   },
   "source": [
    "Se estiver tudo ok, ao executar a célula acima, você deve ver a resposta:\n",
    "```\n",
    "[1., 1., 0.]\n",
    "```\n",
    "### Exercício 1\n",
    "Na célula abaixo, teste o método resolvendo o exercício mostrado em sala:\n",
    "\n",
    "$\\left[\\begin{array}{rrr}\n",
    "1& -3 & 2\\\\\n",
    "-2& 8 & -1\\\\\n",
    "4& -6 & 5\\\\\n",
    "\\end{array}\\right] \\left[\\begin{array}{c}\n",
    "x_1\\\\\n",
    "x_2\\\\\n",
    "x_3\\\\\n",
    "\\end{array}\\right] = \\left[\\begin{array}{r}\n",
    "11\\\\\n",
    "-15\\\\\n",
    "29\\\\\n",
    "\\end{array}\\right] $"
   ]
  },
  {
   "cell_type": "code",
   "execution_count": 30,
   "metadata": {
    "collapsed": true,
    "id": "T5W2UTTWKVml"
   },
   "outputs": [
    {
     "name": "stdout",
     "output_type": "stream",
     "text": [
      "Solução do sistema Ax=b:\n",
      "[ 2. -1.  3.]\n"
     ]
    }
   ],
   "source": [
    "# Defina a matriz A e o vetor b e chame a função gauss_pivot\n",
    "A = np.array([[1, -3, 2],\n",
    "            [-2, 8, -1],\n",
    "            [4, -6, 5]])\n",
    "\n",
    "b = np.array([11, -15, 29])\n",
    "x = gauss_pivot(A, b)\n",
    "print(\"Solução do sistema Ax=b:\")\n",
    "print(x)"
   ]
  },
  {
   "cell_type": "markdown",
   "metadata": {
    "id": "rEqtfCITKVmm"
   },
   "source": [
    "### Exercício 2\n",
    "Na célula abaixo, o seguinte sistema linear:\n",
    "\n",
    "$\\left[\\begin{array}{rrr}\n",
    "3& 2 & 4\\\\\n",
    "1& 1 & 2\\\\\n",
    "4& 3 & -2\\\\\n",
    "\\end{array}\\right] \\left[\\begin{array}{c}\n",
    "x_1\\\\\n",
    "x_2\\\\\n",
    "x_3\\\\\n",
    "\\end{array}\\right] = \\left[\\begin{array}{r}\n",
    "1\\\\\n",
    "2\\\\\n",
    "3\\\\\n",
    "\\end{array}\\right] $"
   ]
  },
  {
   "cell_type": "code",
   "execution_count": 31,
   "metadata": {
    "collapsed": true,
    "id": "ufHXA9BvKVmm"
   },
   "outputs": [
    {
     "name": "stdout",
     "output_type": "stream",
     "text": [
      "Solução do sistema Ax=b:\n",
      "[-3.  5.  0.]\n"
     ]
    }
   ],
   "source": [
    "A = np.array([[3, 2, 4],\n",
    "              [1, 1, 2],\n",
    "              [4, 3, -2]])\n",
    "b = np.array([1, 2, 3])\n",
    "x = gauss_pivot(A, b)\n",
    "print(\"Solução do sistema Ax=b:\")\n",
    "print(x)"
   ]
  },
  {
   "cell_type": "markdown",
   "metadata": {
    "id": "aL2Zr3YsKVmm"
   },
   "source": [
    "### Exercício 3\n",
    "\n",
    "Modifique o método de gauss com pivotação para também calcular o determinante.\n",
    "Use o valor retornado pela função ```escolhe_pivo``` para controlar o número de permutações, P.\n",
    "\n",
    "$det(A) = (-1)^P \\times det(U)$"
   ]
  },
  {
   "cell_type": "code",
   "execution_count": 37,
   "metadata": {
    "collapsed": true,
    "id": "j4CHxdkuKVmm"
   },
   "outputs": [],
   "source": [
    "def gauss_pivot_det(A, b):\n",
    "    '''Executa o método da eliminação de Gauss com pivotação parcial para resolver\n",
    "       o sistema linear Ax=b, transformando-o em um sistema triangular superior.\n",
    "       Parâmetros de entrada:\n",
    "         - A: matriz quadrada (numpy array 2D)\n",
    "         - b: vetor constante (numpy array 1D)\n",
    "       Saída: tupla (x, det), onde x é o vetor solução e det é o determinante da matriz A\n",
    "    '''\n",
    "    ## Vamos copiar a matriz A e o vetor b para não alterar os dados originais\n",
    "    A = A.copy().astype(float)\n",
    "    b = b.copy().astype(float)\n",
    "\n",
    "    ## n é a ordem da matriz A\n",
    "    n = A.shape[0]\n",
    "    # P é o número de trocas de linha\n",
    "    P = 0\n",
    "\n",
    "    ## Para cada etapa k\n",
    "        ## Escolhe o pivô\n",
    "    for k in range(0, n-1):\n",
    "      if escolhe_pivo(k, A, b):\n",
    "        P += 1\n",
    "\n",
    "      for i in range(k+1, n):\n",
    "            # Calcula o fator de multiplicação\n",
    "            m = -A[i, k] / A[k, k]\n",
    "            # Atualiza a linha i da matriz A, a partir da linha k+1\n",
    "            A[i, k+1:] = m * A[k, k+1:] + A[i, k+1:]\n",
    "            # Atualiza o vetor b\n",
    "            b[i] = m * b[k] + b[i]\n",
    "            # Zera o elemento A[i, k]\n",
    "            A[i, k] = 0.0\n",
    "\n",
    "    ## Calcula o determinante da matriz A\n",
    "    det = np.prod(np.diag(A))\n",
    "    det = det * (-1)**P  # Ajusta o sinal do determinante se houve troca de linhas\n",
    "   \n",
    "    if det != 0:\n",
    "        x = substituicoes_retroativas(A, b)\n",
    "    else:\n",
    "        x = None\n",
    "        print(\"O sistema não tem solução única (determinante é zero).\")\n",
    "  \n",
    "    return x, det"
   ]
  },
  {
   "cell_type": "markdown",
   "metadata": {
    "id": "jsTbwwiDKVmn"
   },
   "source": [
    "Agora teste com o exemplo acima:\n",
    "\n",
    "$\\left[\\begin{array}{rrr}\n",
    "1& -3 & 2\\\\\n",
    "-2& 8 & -1\\\\\n",
    "4& -6 & 5\\\\\n",
    "\\end{array}\\right] \\left[\\begin{array}{c}\n",
    "x_1\\\\\n",
    "x_2\\\\\n",
    "x_3\\\\\n",
    "\\end{array}\\right] = \\left[\\begin{array}{r}\n",
    "11\\\\\n",
    "-15\\\\\n",
    "29\\\\\n",
    "\\end{array}\\right] $"
   ]
  },
  {
   "cell_type": "code",
   "execution_count": 38,
   "metadata": {
    "collapsed": true,
    "id": "rwWoeXe-KVmn"
   },
   "outputs": [
    {
     "name": "stdout",
     "output_type": "stream",
     "text": [
      "Solução do sistema Ax=b:\n",
      "[ 2. -1.  3.]\n",
      "Determinante da matriz A:\n",
      "-24.0\n"
     ]
    }
   ],
   "source": [
    "A = np.array([[1, -3, 2],\n",
    "              [-2, 8, -1],\n",
    "              [4, -6, 5]])\n",
    "b = np.array([11, -15, 29])\n",
    "x, det = gauss_pivot_det(A, b)\n",
    "print(\"Solução do sistema Ax=b:\")\n",
    "print(x)\n",
    "print(\"Determinante da matriz A:\")\n",
    "print(det)"
   ]
  },
  {
   "cell_type": "markdown",
   "metadata": {
    "id": "kdPJhEpMKVmn"
   },
   "source": [
    "Se tudo deu certo, você deve obter a seguinte resposta:\n",
    "\n",
    "```\n",
    "[2., -1., 3.]  -24.0\n",
    "```\n"
   ]
  },
  {
   "cell_type": "markdown",
   "metadata": {
    "id": "ORo9BkrnKVmo"
   },
   "source": [
    "Agora teste com o seguinte sistema de matriz dos coeficientes singular:\n",
    "\n",
    "$\\left[\\begin{array}{rrr}\n",
    "1& -3 & 2\\\\\n",
    "1& -3 & 2\\\\\n",
    "4& -6 & 5\\\\\n",
    "\\end{array}\\right] \\left[\\begin{array}{c}\n",
    "x_1\\\\\n",
    "x_2\\\\\n",
    "x_3\\\\\n",
    "\\end{array}\\right] = \\left[\\begin{array}{r}\n",
    "11\\\\\n",
    "-15\\\\\n",
    "29\\\\\n",
    "\\end{array}\\right] $"
   ]
  },
  {
   "cell_type": "code",
   "execution_count": 39,
   "metadata": {
    "id": "vp7-v5OPKVmo"
   },
   "outputs": [
    {
     "name": "stdout",
     "output_type": "stream",
     "text": [
      "O sistema não tem solução única (determinante é zero).\n",
      "Solução do sistema Ax=b:\n",
      "None\n",
      "Determinante da matriz A:\n",
      "0.0\n"
     ]
    }
   ],
   "source": [
    "A = np.array([[1, -3, 2],\n",
    "              [1, -3, 2],\n",
    "              [4, -6, 5]])\n",
    "b = np.array([11, -15, 29])\n",
    "x, det = gauss_pivot_det(A, b)\n",
    "print(\"Solução do sistema Ax=b:\")\n",
    "print(x)\n",
    "print(\"Determinante da matriz A:\")\n",
    "print(det)"
   ]
  }
 ],
 "metadata": {
  "colab": {
   "provenance": []
  },
  "kernelspec": {
   "display_name": "Python 3",
   "language": "python",
   "name": "python3"
  },
  "language_info": {
   "codemirror_mode": {
    "name": "ipython",
    "version": 3
   },
   "file_extension": ".py",
   "mimetype": "text/x-python",
   "name": "python",
   "nbconvert_exporter": "python",
   "pygments_lexer": "ipython3",
   "version": "3.11.9"
  }
 },
 "nbformat": 4,
 "nbformat_minor": 0
}
